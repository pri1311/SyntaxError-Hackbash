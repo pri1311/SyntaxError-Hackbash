{
  "nbformat": 4,
  "nbformat_minor": 0,
  "metadata": {
    "colab": {
      "name": "Hackbash.ipynb",
      "provenance": []
    },
    "kernelspec": {
      "name": "python3",
      "display_name": "Python 3"
    },
    "accelerator": "GPU"
  },
  "cells": [
    {
      "cell_type": "code",
      "metadata": {
        "colab": {
          "base_uri": "https://localhost:8080/"
        },
        "id": "p3EnVkPUP9Zb",
        "outputId": "0cdc8d01-9693-4c9a-a945-d0ce406a797b"
      },
      "source": [
        "from google.colab import drive\n",
        "drive.mount('/content/drive')"
      ],
      "execution_count": null,
      "outputs": [
        {
          "output_type": "stream",
          "text": [
            "Drive already mounted at /content/drive; to attempt to forcibly remount, call drive.mount(\"/content/drive\", force_remount=True).\n"
          ],
          "name": "stdout"
        }
      ]
    },
    {
      "cell_type": "code",
      "metadata": {
        "id": "EazalSEXJDOj"
      },
      "source": [
        "import os\r\n",
        "import tensorflow as tf\r\n",
        "from tensorflow import keras\r\n",
        "from tensorflow.keras.preprocessing.image import ImageDataGenerator, img_to_array, load_img, array_to_img\r\n",
        "import zipfile\r\n",
        "import matplotlib.pyplot as plt\r\n",
        "import numpy as np\r\n",
        "from functools import partial\r\n",
        "from tensorflow.keras.optimizers import Nadam\r\n",
        "import pandas as pd\r\n",
        "from sklearn.metrics import classification_report, confusion_matrix\r\n",
        "import seaborn as sns"
      ],
      "execution_count": null,
      "outputs": []
    },
    {
      "cell_type": "code",
      "metadata": {
        "colab": {
          "base_uri": "https://localhost:8080/"
        },
        "id": "yPxt61xmKOTN",
        "outputId": "bec5fd73-22a7-4f0a-b7e1-ada039e25bf9"
      },
      "source": [
        "image_count = 0\r\n",
        "labels = []\r\n",
        "train_counts = []\r\n",
        "for dirname in os.listdir('/content/drive/MyDrive/dataset/split-garbage-dataset/train'):\r\n",
        "    labels.append(dirname)\r\n",
        "    image_count = 0\r\n",
        "    for img in os.listdir(os.path.join('/content/drive/MyDrive/dataset/split-garbage-dataset/train',dirname)):\r\n",
        "        image_count +=1\r\n",
        "    train_counts.append(image_count)\r\n",
        "\r\n",
        "print(list(zip(train_counts,labels)))"
      ],
      "execution_count": null,
      "outputs": [
        {
          "output_type": "stream",
          "text": [
            "[(287, 'cardboard'), (354, 'glass'), (286, 'metal'), (403, 'paper'), (347, 'plastic'), (91, 'trash')]\n"
          ],
          "name": "stdout"
        }
      ]
    },
    {
      "cell_type": "code",
      "metadata": {
        "id": "I6gdmH4iKVav",
        "colab": {
          "base_uri": "https://localhost:8080/",
          "height": 264
        },
        "outputId": "47199dce-2c0e-4f49-efe9-2a7ef8bbcdb3"
      },
      "source": [
        "plt.pie(train_counts,\r\n",
        "        explode=(0, 0, 0, 0, 0, 0) , \r\n",
        "        labels=labels,\r\n",
        "        autopct='%1.1f%%');\r\n",
        "plt.title('-- TRAINING SET --');"
      ],
      "execution_count": null,
      "outputs": [
        {
          "output_type": "display_data",
          "data": {
            "image/png": "[encoded data removed]",
            "text/plain": [
              "<Figure size 432x288 with 1 Axes>"
            ]
          },
          "metadata": {
            "tags": []
          }
        }
      ]
    },
    {
      "cell_type": "code",
      "metadata": {
        "id": "KWLG-f_RKdMG",
        "colab": {
          "base_uri": "https://localhost:8080/"
        },
        "outputId": "9acd85c4-18f4-42d3-9293-f1cd08a3a60c"
      },
      "source": [
        "# Add our data-augmentation parameters to ImageDataGenerator\r\n",
        "train_datagen = ImageDataGenerator(rescale = 1./255.,\r\n",
        "                                   rotation_range = 40,\r\n",
        "                                   width_shift_range = 0.2,\r\n",
        "                                   height_shift_range = 0.2,\r\n",
        "                                   shear_range = 0.2,\r\n",
        "                                   zoom_range = 0.2,\r\n",
        "                                   horizontal_flip = True,\r\n",
        "                                   vertical_flip = True,\r\n",
        "                                  )\r\n",
        "\r\n",
        "# Note that the validation data should not be augmented!\r\n",
        "valid_datagen = ImageDataGenerator( rescale = 1.0/255. )\r\n",
        "test_datagen = ImageDataGenerator( rescale = 1.0/255. )\r\n",
        "\r\n",
        "# Flow training images in batches of 8 using train_datagen generator\r\n",
        "train_generator = train_datagen.flow_from_directory('/content/drive/MyDrive/dataset/split-garbage-dataset/train',\r\n",
        "                                                    batch_size =8,\r\n",
        "                                                    class_mode = 'categorical', \r\n",
        "                                                    target_size = (150,150))     \r\n",
        "\r\n",
        "# Flow validation images in batches of 4 using valid_datagen generator\r\n",
        "validation_generator =  valid_datagen.flow_from_directory( '/content/drive/MyDrive/dataset/split-garbage-dataset/valid',\r\n",
        "                                                          batch_size  = 4,\r\n",
        "                                                          class_mode  = 'categorical', \r\n",
        "                                                          target_size = (150,150))     \r\n",
        "\r\n",
        "# Flow test images using test_datagen generator\r\n",
        "test_generator = test_datagen.flow_from_directory('/content/drive/MyDrive/dataset/split-garbage-dataset/test',\r\n",
        "                                                  batch_size = 1,\r\n",
        "                                                  class_mode = 'categorical',\r\n",
        "                                                  target_size = (150,150),shuffle = False)     "
      ],
      "execution_count": null,
      "outputs": [
        {
          "output_type": "stream",
          "text": [
            "Found 1768 images belonging to 6 classes.\n",
            "Found 328 images belonging to 6 classes.\n",
            "Found 431 images belonging to 6 classes.\n"
          ],
          "name": "stdout"
        }
      ]
    },
    {
      "cell_type": "code",
      "metadata": {
        "id": "ZkOAIgVlKWDE",
        "colab": {
          "base_uri": "https://localhost:8080/"
        },
        "outputId": "651ad4e7-652d-4035-cd65-53fc2b0cb38e"
      },
      "source": [
        "class_weights = []\r\n",
        "total_samples = train_generator.samples              #1768\r\n",
        "total_classes = len(train_generator.class_indices)   #6\r\n",
        "for ele in train_counts:\r\n",
        "    result = round(total_samples / (total_classes * ele),2)\r\n",
        "    class_weights.append(result)\r\n",
        "print(dict(zip(labels,class_weights)))\r\n",
        "\r\n",
        "class_weights = dict(zip(train_generator.class_indices.values(),class_weights))"
      ],
      "execution_count": null,
      "outputs": [
        {
          "output_type": "stream",
          "text": [
            "{'cardboard': 1.03, 'glass': 0.83, 'metal': 1.03, 'paper': 0.73, 'plastic': 0.85, 'trash': 3.24}\n"
          ],
          "name": "stdout"
        }
      ]
    },
    {
      "cell_type": "code",
      "metadata": {
        "id": "l4oie5U5KvLq",
        "colab": {
          "base_uri": "https://localhost:8080/"
        },
        "outputId": "22bce017-77d6-4a9b-c6d4-440c9192dd03"
      },
      "source": [
        "tf.keras.backend.clear_session()\r\n",
        "tf.random.set_seed(42)\r\n",
        "np.random.seed(42)\r\n",
        "\r\n",
        "xception_model = keras.applications.xception.Xception(weights=\"imagenet\",\r\n",
        "                                                      include_top=False,\r\n",
        "                                                      input_shape = (150,150,3))\r\n",
        "avg = keras.layers.GlobalAveragePooling2D()(xception_model.output)\r\n",
        "output = keras.layers.Dense(6, activation=\"softmax\")(avg)\r\n",
        "model = keras.models.Model(inputs=xception_model.input, outputs=output)"
      ],
      "execution_count": null,
      "outputs": [
        {
          "output_type": "stream",
          "text": [
            "Downloading data from https://storage.googleapis.com/tensorflow/keras-applications/xception/xception_weights_tf_dim_ordering_tf_kernels_notop.h5\n",
            "83689472/83683744 [==============================] - 2s 0us/step\n"
          ],
          "name": "stdout"
        }
      ]
    },
    {
      "cell_type": "code",
      "metadata": {
        "id": "h_gN9DiZK0Tx"
      },
      "source": [
        "optimizer = keras.optimizers.Nadam(lr=0.001, beta_1=0.9, beta_2=0.999)\r\n",
        "model.compile(optimizer =optimizer ,loss = 'categorical_crossentropy',metrics =['accuracy'])"
      ],
      "execution_count": null,
      "outputs": []
    },
    {
      "cell_type": "code",
      "metadata": {
        "id": "CSL6jrdCK2i-",
        "colab": {
          "base_uri": "https://localhost:8080/"
        },
        "outputId": "94d94060-455e-4689-e336-044a20b384e1"
      },
      "source": [
        "model.summary()"
      ],
      "execution_count": null,
      "outputs": [
        {
          "output_type": "stream",
          "text": [
            "Model: \"model\"\n",
            "__________________________________________________________________________________________________\n",
            "Layer (type)                    Output Shape         Param #     Connected to                     \n",
            "==================================================================================================\n",
            "input_1 (InputLayer)            [(None, 150, 150, 3) 0                                            \n",
            "__________________________________________________________________________________________________\n",
            "block1_conv1 (Conv2D)           (None, 74, 74, 32)   864         input_1[0][0]                    \n",
            "__________________________________________________________________________________________________\n",
            "block1_conv1_bn (BatchNormaliza (None, 74, 74, 32)   128         block1_conv1[0][0]               \n",
            "__________________________________________________________________________________________________\n",
            "block1_conv1_act (Activation)   (None, 74, 74, 32)   0           block1_conv1_bn[0][0]            \n",
            "__________________________________________________________________________________________________\n",
            "block1_conv2 (Conv2D)           (None, 72, 72, 64)   18432       block1_conv1_act[0][0]           \n",
            "__________________________________________________________________________________________________\n",
            "block1_conv2_bn (BatchNormaliza (None, 72, 72, 64)   256         block1_conv2[0][0]               \n",
            "__________________________________________________________________________________________________\n",
            "block1_conv2_act (Activation)   (None, 72, 72, 64)   0           block1_conv2_bn[0][0]            \n",
            "__________________________________________________________________________________________________\n",
            "block2_sepconv1 (SeparableConv2 (None, 72, 72, 128)  8768        block1_conv2_act[0][0]           \n",
            "__________________________________________________________________________________________________\n",
            "block2_sepconv1_bn (BatchNormal (None, 72, 72, 128)  512         block2_sepconv1[0][0]            \n",
            "__________________________________________________________________________________________________\n",
            "block2_sepconv2_act (Activation (None, 72, 72, 128)  0           block2_sepconv1_bn[0][0]         \n",
            "__________________________________________________________________________________________________\n",
            "block2_sepconv2 (SeparableConv2 (None, 72, 72, 128)  17536       block2_sepconv2_act[0][0]        \n",
            "__________________________________________________________________________________________________\n",
            "block2_sepconv2_bn (BatchNormal (None, 72, 72, 128)  512         block2_sepconv2[0][0]            \n",
            "__________________________________________________________________________________________________\n",
            "conv2d (Conv2D)                 (None, 36, 36, 128)  8192        block1_conv2_act[0][0]           \n",
            "__________________________________________________________________________________________________\n",
            "block2_pool (MaxPooling2D)      (None, 36, 36, 128)  0           block2_sepconv2_bn[0][0]         \n",
            "__________________________________________________________________________________________________\n",
            "batch_normalization (BatchNorma (None, 36, 36, 128)  512         conv2d[0][0]                     \n",
            "__________________________________________________________________________________________________\n",
            "add (Add)                       (None, 36, 36, 128)  0           block2_pool[0][0]                \n",
            "                                                                 batch_normalization[0][0]        \n",
            "__________________________________________________________________________________________________\n",
            "block3_sepconv1_act (Activation (None, 36, 36, 128)  0           add[0][0]                        \n",
            "__________________________________________________________________________________________________\n",
            "block3_sepconv1 (SeparableConv2 (None, 36, 36, 256)  33920       block3_sepconv1_act[0][0]        \n",
            "__________________________________________________________________________________________________\n",
            "block3_sepconv1_bn (BatchNormal (None, 36, 36, 256)  1024        block3_sepconv1[0][0]            \n",
            "__________________________________________________________________________________________________\n",
            "block3_sepconv2_act (Activation (None, 36, 36, 256)  0           block3_sepconv1_bn[0][0]         \n",
            "__________________________________________________________________________________________________\n",
            "block3_sepconv2 (SeparableConv2 (None, 36, 36, 256)  67840       block3_sepconv2_act[0][0]        \n",
            "__________________________________________________________________________________________________\n",
            "block3_sepconv2_bn (BatchNormal (None, 36, 36, 256)  1024        block3_sepconv2[0][0]            \n",
            "__________________________________________________________________________________________________\n",
            "conv2d_1 (Conv2D)               (None, 18, 18, 256)  32768       add[0][0]                        \n",
            "__________________________________________________________________________________________________\n",
            "block3_pool (MaxPooling2D)      (None, 18, 18, 256)  0           block3_sepconv2_bn[0][0]         \n",
            "__________________________________________________________________________________________________\n",
            "batch_normalization_1 (BatchNor (None, 18, 18, 256)  1024        conv2d_1[0][0]                   \n",
            "__________________________________________________________________________________________________\n",
            "add_1 (Add)                     (None, 18, 18, 256)  0           block3_pool[0][0]                \n",
            "                                                                 batch_normalization_1[0][0]      \n",
            "__________________________________________________________________________________________________\n",
            "block4_sepconv1_act (Activation (None, 18, 18, 256)  0           add_1[0][0]                      \n",
            "__________________________________________________________________________________________________\n",
            "block4_sepconv1 (SeparableConv2 (None, 18, 18, 728)  188672      block4_sepconv1_act[0][0]        \n",
            "__________________________________________________________________________________________________\n",
            "block4_sepconv1_bn (BatchNormal (None, 18, 18, 728)  2912        block4_sepconv1[0][0]            \n",
            "__________________________________________________________________________________________________\n",
            "block4_sepconv2_act (Activation (None, 18, 18, 728)  0           block4_sepconv1_bn[0][0]         \n",
            "__________________________________________________________________________________________________\n",
            "block4_sepconv2 (SeparableConv2 (None, 18, 18, 728)  536536      block4_sepconv2_act[0][0]        \n",
            "__________________________________________________________________________________________________\n",
            "block4_sepconv2_bn (BatchNormal (None, 18, 18, 728)  2912        block4_sepconv2[0][0]            \n",
            "__________________________________________________________________________________________________\n",
            "conv2d_2 (Conv2D)               (None, 9, 9, 728)    186368      add_1[0][0]                      \n",
            "__________________________________________________________________________________________________\n",
            "block4_pool (MaxPooling2D)      (None, 9, 9, 728)    0           block4_sepconv2_bn[0][0]         \n",
            "__________________________________________________________________________________________________\n",
            "batch_normalization_2 (BatchNor (None, 9, 9, 728)    2912        conv2d_2[0][0]                   \n",
            "__________________________________________________________________________________________________\n",
            "add_2 (Add)                     (None, 9, 9, 728)    0           block4_pool[0][0]                \n",
            "                                                                 batch_normalization_2[0][0]      \n",
            "__________________________________________________________________________________________________\n",
            "block5_sepconv1_act (Activation (None, 9, 9, 728)    0           add_2[0][0]                      \n",
            "__________________________________________________________________________________________________\n",
            "block5_sepconv1 (SeparableConv2 (None, 9, 9, 728)    536536      block5_sepconv1_act[0][0]        \n",
            "__________________________________________________________________________________________________\n",
            "block5_sepconv1_bn (BatchNormal (None, 9, 9, 728)    2912        block5_sepconv1[0][0]            \n",
            "__________________________________________________________________________________________________\n",
            "block5_sepconv2_act (Activation (None, 9, 9, 728)    0           block5_sepconv1_bn[0][0]         \n",
            "__________________________________________________________________________________________________\n",
            "block5_sepconv2 (SeparableConv2 (None, 9, 9, 728)    536536      block5_sepconv2_act[0][0]        \n",
            "__________________________________________________________________________________________________\n",
            "block5_sepconv2_bn (BatchNormal (None, 9, 9, 728)    2912        block5_sepconv2[0][0]            \n",
            "__________________________________________________________________________________________________\n",
            "block5_sepconv3_act (Activation (None, 9, 9, 728)    0           block5_sepconv2_bn[0][0]         \n",
            "__________________________________________________________________________________________________\n",
            "block5_sepconv3 (SeparableConv2 (None, 9, 9, 728)    536536      block5_sepconv3_act[0][0]        \n",
            "__________________________________________________________________________________________________\n",
            "block5_sepconv3_bn (BatchNormal (None, 9, 9, 728)    2912        block5_sepconv3[0][0]            \n",
            "__________________________________________________________________________________________________\n",
            "add_3 (Add)                     (None, 9, 9, 728)    0           block5_sepconv3_bn[0][0]         \n",
            "                                                                 add_2[0][0]                      \n",
            "__________________________________________________________________________________________________\n",
            "block6_sepconv1_act (Activation (None, 9, 9, 728)    0           add_3[0][0]                      \n",
            "__________________________________________________________________________________________________\n",
            "block6_sepconv1 (SeparableConv2 (None, 9, 9, 728)    536536      block6_sepconv1_act[0][0]        \n",
            "__________________________________________________________________________________________________\n",
            "block6_sepconv1_bn (BatchNormal (None, 9, 9, 728)    2912        block6_sepconv1[0][0]            \n",
            "__________________________________________________________________________________________________\n",
            "block6_sepconv2_act (Activation (None, 9, 9, 728)    0           block6_sepconv1_bn[0][0]         \n",
            "__________________________________________________________________________________________________\n",
            "block6_sepconv2 (SeparableConv2 (None, 9, 9, 728)    536536      block6_sepconv2_act[0][0]        \n",
            "__________________________________________________________________________________________________\n",
            "block6_sepconv2_bn (BatchNormal (None, 9, 9, 728)    2912        block6_sepconv2[0][0]            \n",
            "__________________________________________________________________________________________________\n",
            "block6_sepconv3_act (Activation (None, 9, 9, 728)    0           block6_sepconv2_bn[0][0]         \n",
            "__________________________________________________________________________________________________\n",
            "block6_sepconv3 (SeparableConv2 (None, 9, 9, 728)    536536      block6_sepconv3_act[0][0]        \n",
            "__________________________________________________________________________________________________\n",
            "block6_sepconv3_bn (BatchNormal (None, 9, 9, 728)    2912        block6_sepconv3[0][0]            \n",
            "__________________________________________________________________________________________________\n",
            "add_4 (Add)                     (None, 9, 9, 728)    0           block6_sepconv3_bn[0][0]         \n",
            "                                                                 add_3[0][0]                      \n",
            "__________________________________________________________________________________________________\n",
            "block7_sepconv1_act (Activation (None, 9, 9, 728)    0           add_4[0][0]                      \n",
            "__________________________________________________________________________________________________\n",
            "block7_sepconv1 (SeparableConv2 (None, 9, 9, 728)    536536      block7_sepconv1_act[0][0]        \n",
            "__________________________________________________________________________________________________\n",
            "block7_sepconv1_bn (BatchNormal (None, 9, 9, 728)    2912        block7_sepconv1[0][0]            \n",
            "__________________________________________________________________________________________________\n",
            "block7_sepconv2_act (Activation (None, 9, 9, 728)    0           block7_sepconv1_bn[0][0]         \n",
            "__________________________________________________________________________________________________\n",
            "block7_sepconv2 (SeparableConv2 (None, 9, 9, 728)    536536      block7_sepconv2_act[0][0]        \n",
            "__________________________________________________________________________________________________\n",
            "block7_sepconv2_bn (BatchNormal (None, 9, 9, 728)    2912        block7_sepconv2[0][0]            \n",
            "__________________________________________________________________________________________________\n",
            "block7_sepconv3_act (Activation (None, 9, 9, 728)    0           block7_sepconv2_bn[0][0]         \n",
            "__________________________________________________________________________________________________\n",
            "block7_sepconv3 (SeparableConv2 (None, 9, 9, 728)    536536      block7_sepconv3_act[0][0]        \n",
            "__________________________________________________________________________________________________\n",
            "block7_sepconv3_bn (BatchNormal (None, 9, 9, 728)    2912        block7_sepconv3[0][0]            \n",
            "__________________________________________________________________________________________________\n",
            "add_5 (Add)                     (None, 9, 9, 728)    0           block7_sepconv3_bn[0][0]         \n",
            "                                                                 add_4[0][0]                      \n",
            "__________________________________________________________________________________________________\n",
            "block8_sepconv1_act (Activation (None, 9, 9, 728)    0           add_5[0][0]                      \n",
            "__________________________________________________________________________________________________\n",
            "block8_sepconv1 (SeparableConv2 (None, 9, 9, 728)    536536      block8_sepconv1_act[0][0]        \n",
            "__________________________________________________________________________________________________\n",
            "block8_sepconv1_bn (BatchNormal (None, 9, 9, 728)    2912        block8_sepconv1[0][0]            \n",
            "__________________________________________________________________________________________________\n",
            "block8_sepconv2_act (Activation (None, 9, 9, 728)    0           block8_sepconv1_bn[0][0]         \n",
            "__________________________________________________________________________________________________\n",
            "block8_sepconv2 (SeparableConv2 (None, 9, 9, 728)    536536      block8_sepconv2_act[0][0]        \n",
            "__________________________________________________________________________________________________\n",
            "block8_sepconv2_bn (BatchNormal (None, 9, 9, 728)    2912        block8_sepconv2[0][0]            \n",
            "__________________________________________________________________________________________________\n",
            "block8_sepconv3_act (Activation (None, 9, 9, 728)    0           block8_sepconv2_bn[0][0]         \n",
            "__________________________________________________________________________________________________\n",
            "block8_sepconv3 (SeparableConv2 (None, 9, 9, 728)    536536      block8_sepconv3_act[0][0]        \n",
            "__________________________________________________________________________________________________\n",
            "block8_sepconv3_bn (BatchNormal (None, 9, 9, 728)    2912        block8_sepconv3[0][0]            \n",
            "__________________________________________________________________________________________________\n",
            "add_6 (Add)                     (None, 9, 9, 728)    0           block8_sepconv3_bn[0][0]         \n",
            "                                                                 add_5[0][0]                      \n",
            "__________________________________________________________________________________________________\n",
            "block9_sepconv1_act (Activation (None, 9, 9, 728)    0           add_6[0][0]                      \n",
            "__________________________________________________________________________________________________\n",
            "block9_sepconv1 (SeparableConv2 (None, 9, 9, 728)    536536      block9_sepconv1_act[0][0]        \n",
            "__________________________________________________________________________________________________\n",
            "block9_sepconv1_bn (BatchNormal (None, 9, 9, 728)    2912        block9_sepconv1[0][0]            \n",
            "__________________________________________________________________________________________________\n",
            "block9_sepconv2_act (Activation (None, 9, 9, 728)    0           block9_sepconv1_bn[0][0]         \n",
            "__________________________________________________________________________________________________\n",
            "block9_sepconv2 (SeparableConv2 (None, 9, 9, 728)    536536      block9_sepconv2_act[0][0]        \n",
            "__________________________________________________________________________________________________\n",
            "block9_sepconv2_bn (BatchNormal (None, 9, 9, 728)    2912        block9_sepconv2[0][0]            \n",
            "__________________________________________________________________________________________________\n",
            "block9_sepconv3_act (Activation (None, 9, 9, 728)    0           block9_sepconv2_bn[0][0]         \n",
            "__________________________________________________________________________________________________\n",
            "block9_sepconv3 (SeparableConv2 (None, 9, 9, 728)    536536      block9_sepconv3_act[0][0]        \n",
            "__________________________________________________________________________________________________\n",
            "block9_sepconv3_bn (BatchNormal (None, 9, 9, 728)    2912        block9_sepconv3[0][0]            \n",
            "__________________________________________________________________________________________________\n",
            "add_7 (Add)                     (None, 9, 9, 728)    0           block9_sepconv3_bn[0][0]         \n",
            "                                                                 add_6[0][0]                      \n",
            "__________________________________________________________________________________________________\n",
            "block10_sepconv1_act (Activatio (None, 9, 9, 728)    0           add_7[0][0]                      \n",
            "__________________________________________________________________________________________________\n",
            "block10_sepconv1 (SeparableConv (None, 9, 9, 728)    536536      block10_sepconv1_act[0][0]       \n",
            "__________________________________________________________________________________________________\n",
            "block10_sepconv1_bn (BatchNorma (None, 9, 9, 728)    2912        block10_sepconv1[0][0]           \n",
            "__________________________________________________________________________________________________\n",
            "block10_sepconv2_act (Activatio (None, 9, 9, 728)    0           block10_sepconv1_bn[0][0]        \n",
            "__________________________________________________________________________________________________\n",
            "block10_sepconv2 (SeparableConv (None, 9, 9, 728)    536536      block10_sepconv2_act[0][0]       \n",
            "__________________________________________________________________________________________________\n",
            "block10_sepconv2_bn (BatchNorma (None, 9, 9, 728)    2912        block10_sepconv2[0][0]           \n",
            "__________________________________________________________________________________________________\n",
            "block10_sepconv3_act (Activatio (None, 9, 9, 728)    0           block10_sepconv2_bn[0][0]        \n",
            "__________________________________________________________________________________________________\n",
            "block10_sepconv3 (SeparableConv (None, 9, 9, 728)    536536      block10_sepconv3_act[0][0]       \n",
            "__________________________________________________________________________________________________\n",
            "block10_sepconv3_bn (BatchNorma (None, 9, 9, 728)    2912        block10_sepconv3[0][0]           \n",
            "__________________________________________________________________________________________________\n",
            "add_8 (Add)                     (None, 9, 9, 728)    0           block10_sepconv3_bn[0][0]        \n",
            "                                                                 add_7[0][0]                      \n",
            "__________________________________________________________________________________________________\n",
            "block11_sepconv1_act (Activatio (None, 9, 9, 728)    0           add_8[0][0]                      \n",
            "__________________________________________________________________________________________________\n",
            "block11_sepconv1 (SeparableConv (None, 9, 9, 728)    536536      block11_sepconv1_act[0][0]       \n",
            "__________________________________________________________________________________________________\n",
            "block11_sepconv1_bn (BatchNorma (None, 9, 9, 728)    2912        block11_sepconv1[0][0]           \n",
            "__________________________________________________________________________________________________\n",
            "block11_sepconv2_act (Activatio (None, 9, 9, 728)    0           block11_sepconv1_bn[0][0]        \n",
            "__________________________________________________________________________________________________\n",
            "block11_sepconv2 (SeparableConv (None, 9, 9, 728)    536536      block11_sepconv2_act[0][0]       \n",
            "__________________________________________________________________________________________________\n",
            "block11_sepconv2_bn (BatchNorma (None, 9, 9, 728)    2912        block11_sepconv2[0][0]           \n",
            "__________________________________________________________________________________________________\n",
            "block11_sepconv3_act (Activatio (None, 9, 9, 728)    0           block11_sepconv2_bn[0][0]        \n",
            "__________________________________________________________________________________________________\n",
            "block11_sepconv3 (SeparableConv (None, 9, 9, 728)    536536      block11_sepconv3_act[0][0]       \n",
            "__________________________________________________________________________________________________\n",
            "block11_sepconv3_bn (BatchNorma (None, 9, 9, 728)    2912        block11_sepconv3[0][0]           \n",
            "__________________________________________________________________________________________________\n",
            "add_9 (Add)                     (None, 9, 9, 728)    0           block11_sepconv3_bn[0][0]        \n",
            "                                                                 add_8[0][0]                      \n",
            "__________________________________________________________________________________________________\n",
            "block12_sepconv1_act (Activatio (None, 9, 9, 728)    0           add_9[0][0]                      \n",
            "__________________________________________________________________________________________________\n",
            "block12_sepconv1 (SeparableConv (None, 9, 9, 728)    536536      block12_sepconv1_act[0][0]       \n",
            "__________________________________________________________________________________________________\n",
            "block12_sepconv1_bn (BatchNorma (None, 9, 9, 728)    2912        block12_sepconv1[0][0]           \n",
            "__________________________________________________________________________________________________\n",
            "block12_sepconv2_act (Activatio (None, 9, 9, 728)    0           block12_sepconv1_bn[0][0]        \n",
            "__________________________________________________________________________________________________\n",
            "block12_sepconv2 (SeparableConv (None, 9, 9, 728)    536536      block12_sepconv2_act[0][0]       \n",
            "__________________________________________________________________________________________________\n",
            "block12_sepconv2_bn (BatchNorma (None, 9, 9, 728)    2912        block12_sepconv2[0][0]           \n",
            "__________________________________________________________________________________________________\n",
            "block12_sepconv3_act (Activatio (None, 9, 9, 728)    0           block12_sepconv2_bn[0][0]        \n",
            "__________________________________________________________________________________________________\n",
            "block12_sepconv3 (SeparableConv (None, 9, 9, 728)    536536      block12_sepconv3_act[0][0]       \n",
            "__________________________________________________________________________________________________\n",
            "block12_sepconv3_bn (BatchNorma (None, 9, 9, 728)    2912        block12_sepconv3[0][0]           \n",
            "__________________________________________________________________________________________________\n",
            "add_10 (Add)                    (None, 9, 9, 728)    0           block12_sepconv3_bn[0][0]        \n",
            "                                                                 add_9[0][0]                      \n",
            "__________________________________________________________________________________________________\n",
            "block13_sepconv1_act (Activatio (None, 9, 9, 728)    0           add_10[0][0]                     \n",
            "__________________________________________________________________________________________________\n",
            "block13_sepconv1 (SeparableConv (None, 9, 9, 728)    536536      block13_sepconv1_act[0][0]       \n",
            "__________________________________________________________________________________________________\n",
            "block13_sepconv1_bn (BatchNorma (None, 9, 9, 728)    2912        block13_sepconv1[0][0]           \n",
            "__________________________________________________________________________________________________\n",
            "block13_sepconv2_act (Activatio (None, 9, 9, 728)    0           block13_sepconv1_bn[0][0]        \n",
            "__________________________________________________________________________________________________\n",
            "block13_sepconv2 (SeparableConv (None, 9, 9, 1024)   752024      block13_sepconv2_act[0][0]       \n",
            "__________________________________________________________________________________________________\n",
            "block13_sepconv2_bn (BatchNorma (None, 9, 9, 1024)   4096        block13_sepconv2[0][0]           \n",
            "__________________________________________________________________________________________________\n",
            "conv2d_3 (Conv2D)               (None, 5, 5, 1024)   745472      add_10[0][0]                     \n",
            "__________________________________________________________________________________________________\n",
            "block13_pool (MaxPooling2D)     (None, 5, 5, 1024)   0           block13_sepconv2_bn[0][0]        \n",
            "__________________________________________________________________________________________________\n",
            "batch_normalization_3 (BatchNor (None, 5, 5, 1024)   4096        conv2d_3[0][0]                   \n",
            "__________________________________________________________________________________________________\n",
            "add_11 (Add)                    (None, 5, 5, 1024)   0           block13_pool[0][0]               \n",
            "                                                                 batch_normalization_3[0][0]      \n",
            "__________________________________________________________________________________________________\n",
            "block14_sepconv1 (SeparableConv (None, 5, 5, 1536)   1582080     add_11[0][0]                     \n",
            "__________________________________________________________________________________________________\n",
            "block14_sepconv1_bn (BatchNorma (None, 5, 5, 1536)   6144        block14_sepconv1[0][0]           \n",
            "__________________________________________________________________________________________________\n",
            "block14_sepconv1_act (Activatio (None, 5, 5, 1536)   0           block14_sepconv1_bn[0][0]        \n",
            "__________________________________________________________________________________________________\n",
            "block14_sepconv2 (SeparableConv (None, 5, 5, 2048)   3159552     block14_sepconv1_act[0][0]       \n",
            "__________________________________________________________________________________________________\n",
            "block14_sepconv2_bn (BatchNorma (None, 5, 5, 2048)   8192        block14_sepconv2[0][0]           \n",
            "__________________________________________________________________________________________________\n",
            "block14_sepconv2_act (Activatio (None, 5, 5, 2048)   0           block14_sepconv2_bn[0][0]        \n",
            "__________________________________________________________________________________________________\n",
            "global_average_pooling2d (Globa (None, 2048)         0           block14_sepconv2_act[0][0]       \n",
            "__________________________________________________________________________________________________\n",
            "dense (Dense)                   (None, 6)            12294       global_average_pooling2d[0][0]   \n",
            "==================================================================================================\n",
            "Total params: 20,873,774\n",
            "Trainable params: 20,819,246\n",
            "Non-trainable params: 54,528\n",
            "__________________________________________________________________________________________________\n"
          ],
          "name": "stdout"
        }
      ]
    },
    {
      "cell_type": "code",
      "metadata": {
        "id": "gqLB5gxKK4Ub"
      },
      "source": [
        "early_stopping_cb = tf.keras.callbacks.EarlyStopping(patience = 10,restore_best_weights = True)\r\n",
        "lr_scheduler = tf.keras.callbacks.ReduceLROnPlateau(factor = 0.7,patience = 2)\r\n",
        "model_checkpoint =tf.keras.callbacks.ModelCheckpoint('GarbageClassifier_Xce.h5', save_best_only=True)\r\n",
        "\r\n",
        "class CustomCallBack(tf.keras.callbacks.Callback):\r\n",
        "        def on_epoch_end(self,epoch,logs={}):\r\n",
        "            if(logs.get('accuracy')>0.9999):\r\n",
        "                print(\"\\nReached 99.99% accuracy so cancelling training!\")\r\n",
        "                self.model.stop_training = True\r\n",
        "                \r\n",
        "mycallback = CustomCallBack()"
      ],
      "execution_count": null,
      "outputs": []
    },
    {
      "cell_type": "code",
      "metadata": {
        "id": "A9LDUvgmK65S",
        "colab": {
          "base_uri": "https://localhost:8080/"
        },
        "outputId": "3d15a9e5-afe8-4790-f8f0-435107144279"
      },
      "source": [
        "history = model.fit(\r\n",
        "            train_generator,\r\n",
        "            steps_per_epoch=train_generator.samples/train_generator.batch_size,\r\n",
        "            epochs = 40,\r\n",
        "            validation_data = validation_generator,\r\n",
        "            validation_steps= validation_generator.samples/validation_generator.batch_size,\r\n",
        "            class_weight = class_weights ,\r\n",
        "            callbacks= [early_stopping_cb,model_checkpoint,lr_scheduler,mycallback],\r\n",
        "            verbose=1)"
      ],
      "execution_count": null,
      "outputs": [
        {
          "output_type": "stream",
          "text": [
            "Epoch 1/40\n",
            "221/221 [==============================] - 53s 237ms/step - loss: 0.0558 - accuracy: 0.9791 - val_loss: 0.2975 - val_accuracy: 0.9177\n",
            "Epoch 2/40\n",
            "221/221 [==============================] - 52s 236ms/step - loss: 0.0494 - accuracy: 0.9853 - val_loss: 0.2951 - val_accuracy: 0.9085\n",
            "Epoch 3/40\n",
            "221/221 [==============================] - 52s 235ms/step - loss: 0.0613 - accuracy: 0.9813 - val_loss: 0.3336 - val_accuracy: 0.9055\n",
            "Epoch 4/40\n",
            "221/221 [==============================] - 52s 236ms/step - loss: 0.0588 - accuracy: 0.9813 - val_loss: 0.3304 - val_accuracy: 0.9207\n",
            "Epoch 5/40\n",
            "221/221 [==============================] - 52s 236ms/step - loss: 0.0492 - accuracy: 0.9842 - val_loss: 0.3274 - val_accuracy: 0.9238\n",
            "Epoch 6/40\n",
            "221/221 [==============================] - 52s 236ms/step - loss: 0.0615 - accuracy: 0.9802 - val_loss: 0.3043 - val_accuracy: 0.9238\n",
            "Epoch 7/40\n",
            "221/221 [==============================] - 52s 234ms/step - loss: 0.0575 - accuracy: 0.9808 - val_loss: 0.3098 - val_accuracy: 0.9238\n",
            "Epoch 8/40\n",
            "221/221 [==============================] - 52s 236ms/step - loss: 0.0561 - accuracy: 0.9808 - val_loss: 0.3173 - val_accuracy: 0.9177\n",
            "Epoch 9/40\n",
            "221/221 [==============================] - 52s 236ms/step - loss: 0.0402 - accuracy: 0.9870 - val_loss: 0.3275 - val_accuracy: 0.9146\n",
            "Epoch 10/40\n",
            "221/221 [==============================] - 52s 236ms/step - loss: 0.0537 - accuracy: 0.9830 - val_loss: 0.3054 - val_accuracy: 0.9207\n",
            "Epoch 11/40\n",
            "221/221 [==============================] - 52s 234ms/step - loss: 0.0491 - accuracy: 0.9825 - val_loss: 0.2934 - val_accuracy: 0.9268\n",
            "Epoch 12/40\n",
            "221/221 [==============================] - 52s 236ms/step - loss: 0.0440 - accuracy: 0.9887 - val_loss: 0.2883 - val_accuracy: 0.9268\n",
            "Epoch 13/40\n",
            "221/221 [==============================] - 52s 237ms/step - loss: 0.0382 - accuracy: 0.9847 - val_loss: 0.2884 - val_accuracy: 0.9268\n",
            "Epoch 14/40\n",
            "221/221 [==============================] - 52s 236ms/step - loss: 0.0382 - accuracy: 0.9853 - val_loss: 0.3030 - val_accuracy: 0.9207\n",
            "Epoch 15/40\n",
            "221/221 [==============================] - 52s 234ms/step - loss: 0.0431 - accuracy: 0.9876 - val_loss: 0.3024 - val_accuracy: 0.9238\n",
            "Epoch 16/40\n",
            "221/221 [==============================] - 52s 236ms/step - loss: 0.0534 - accuracy: 0.9859 - val_loss: 0.3121 - val_accuracy: 0.9146\n",
            "Epoch 17/40\n",
            "221/221 [==============================] - 52s 236ms/step - loss: 0.0497 - accuracy: 0.9881 - val_loss: 0.3208 - val_accuracy: 0.9116\n",
            "Epoch 18/40\n",
            "221/221 [==============================] - 52s 236ms/step - loss: 0.0300 - accuracy: 0.9898 - val_loss: 0.3119 - val_accuracy: 0.9177\n",
            "Epoch 19/40\n",
            "221/221 [==============================] - 52s 235ms/step - loss: 0.0404 - accuracy: 0.9864 - val_loss: 0.3120 - val_accuracy: 0.9207\n",
            "Epoch 20/40\n",
            "221/221 [==============================] - 52s 236ms/step - loss: 0.0420 - accuracy: 0.9870 - val_loss: 0.3116 - val_accuracy: 0.9146\n",
            "Epoch 21/40\n",
            "221/221 [==============================] - 52s 237ms/step - loss: 0.0315 - accuracy: 0.9932 - val_loss: 0.3085 - val_accuracy: 0.9207\n",
            "Epoch 22/40\n",
            "221/221 [==============================] - 52s 236ms/step - loss: 0.0340 - accuracy: 0.9898 - val_loss: 0.3063 - val_accuracy: 0.9207\n"
          ],
          "name": "stdout"
        }
      ]
    },
    {
      "cell_type": "code",
      "metadata": {
        "id": "HFVjdUz7K-pG",
        "colab": {
          "base_uri": "https://localhost:8080/",
          "height": 657
        },
        "outputId": "68f9f589-739e-49dc-95c4-53df6b3cacb4"
      },
      "source": [
        "fig = plt.figure(figsize=(10,10))\r\n",
        "\r\n",
        "# Plot accuracy\r\n",
        "plt.subplot(221)\r\n",
        "plt.plot(history.history['accuracy'],'bo-', label = \"acc\")\r\n",
        "plt.plot(history.history['val_accuracy'], 'ro-', label = \"val_acc\")\r\n",
        "plt.title(\"train_accuracy vs val_accuracy\")\r\n",
        "plt.ylabel(\"accuracy\")\r\n",
        "plt.xlabel(\"epochs\")\r\n",
        "plt.grid(True)\r\n",
        "plt.legend()\r\n",
        "\r\n",
        "# Plot loss function\r\n",
        "plt.subplot(222)\r\n",
        "plt.plot(history.history['loss'],'bo-', label = \"loss\")\r\n",
        "plt.plot(history.history['val_loss'], 'ro-', label = \"val_loss\")\r\n",
        "plt.title(\"train_loss vs val_loss\")\r\n",
        "plt.ylabel(\"loss\")\r\n",
        "plt.xlabel(\"epochs\")\r\n",
        "plt.grid(True)\r\n",
        "plt.legend()\r\n",
        "\r\n",
        "plt.subplot(223)\r\n",
        "plt.plot(history.epoch,history.history['lr'],'o-')\r\n",
        "plt.title(\"train_loss vs val_loss\")\r\n",
        "plt.ylabel(\"loss\")\r\n",
        "plt.xlabel(\"epochs\")\r\n",
        "plt.grid(True)\r\n",
        "plt.legend()"
      ],
      "execution_count": null,
      "outputs": [
        {
          "output_type": "stream",
          "text": [
            "No handles with labels found to put in legend.\n"
          ],
          "name": "stderr"
        },
        {
          "output_type": "execute_result",
          "data": {
            "text/plain": [
              "<matplotlib.legend.Legend at 0x7f8ba040f590>"
            ]
          },
          "metadata": {
            "tags": []
          },
          "execution_count": 14
        },
        {
          "output_type": "display_data",
          "data": {
            "image/png": "[encoded data removed]",
            "text/plain": [
              "<Figure size 720x720 with 3 Axes>"
            ]
          },
          "metadata": {
            "tags": [],
            "needs_background": "light"
          }
        }
      ]
    },
    {
      "cell_type": "code",
      "metadata": {
        "id": "4BEAcWBRLAsq",
        "colab": {
          "base_uri": "https://localhost:8080/"
        },
        "outputId": "d14707f7-e98b-4a76-cae9-456aada898d7"
      },
      "source": [
        "model.evaluate(test_generator,batch_size = 1) "
      ],
      "execution_count": null,
      "outputs": [
        {
          "output_type": "stream",
          "text": [
            "431/431 [==============================] - 277s 642ms/step - loss: 0.3211 - accuracy: 0.9095\n"
          ],
          "name": "stdout"
        },
        {
          "output_type": "execute_result",
          "data": {
            "text/plain": [
              "[0.321074515581131, 0.9095127582550049]"
            ]
          },
          "metadata": {
            "tags": []
          },
          "execution_count": 15
        }
      ]
    },
    {
      "cell_type": "code",
      "metadata": {
        "colab": {
          "base_uri": "https://localhost:8080/",
          "height": 870
        },
        "id": "zreZ5X97l3bx",
        "outputId": "c9314d7b-8cef-4472-d00e-370c2a63fdbc"
      },
      "source": [
        "y_pred = model.predict(test_generator)\r\n",
        "y_pred = np.argmax(y_pred, axis=1)\r\n",
        "print(classification_report(test_generator.classes, y_pred))\r\n",
        "cf_matrix = confusion_matrix(test_generator.classes, y_pred)\r\n",
        "plt.figure(figsize=(10,10))\r\n",
        "heatmap = sns.heatmap(cf_matrix, xticklabels=test_generator.class_indices.keys(), yticklabels=test_generator.class_indices.keys(), annot=True, fmt='d', color='red')\r\n",
        "plt.xlabel('Predicted class')\r\n",
        "plt.ylabel('True class')\r\n",
        "plt.title('Confusion matrix of model')"
      ],
      "execution_count": null,
      "outputs": [
        {
          "output_type": "stream",
          "text": [
            "              precision    recall  f1-score   support\n",
            "\n",
            "           0       0.97      0.93      0.95        70\n",
            "           1       0.97      0.88      0.92        82\n",
            "           2       0.83      0.96      0.89        68\n",
            "           3       0.95      0.92      0.93       108\n",
            "           4       0.93      0.86      0.90        74\n",
            "           5       0.69      0.93      0.79        29\n",
            "\n",
            "    accuracy                           0.91       431\n",
            "   macro avg       0.89      0.91      0.90       431\n",
            "weighted avg       0.92      0.91      0.91       431\n",
            "\n"
          ],
          "name": "stdout"
        },
        {
          "output_type": "execute_result",
          "data": {
            "text/plain": [
              "Text(0.5, 1.0, 'Confusion matrix of model')"
            ]
          },
          "metadata": {
            "tags": []
          },
          "execution_count": 18
        },
        {
          "output_type": "display_data",
          "data": {
            "image/png": "[encoded data removed]",
            "text/plain": [
              "<Figure size 720x720 with 2 Axes>"
            ]
          },
          "metadata": {
            "tags": [],
            "needs_background": "light"
          }
        }
      ]
    }
  ]
}